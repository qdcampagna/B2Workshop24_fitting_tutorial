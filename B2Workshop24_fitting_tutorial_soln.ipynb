{
 "cells": [
  {
   "cell_type": "code",
   "execution_count": 1,
   "id": "3ad406c6",
   "metadata": {},
   "outputs": [
    {
     "name": "stdout",
     "output_type": "stream",
     "text": [
      "Welcome to JupyROOT 6.26/14\n"
     ]
    },
    {
     "name": "stderr",
     "output_type": "stream",
     "text": [
      "/home/belle2/qcampagn/.local/lib/python3.8/site-packages/zfit/__init__.py:63: UserWarning: TensorFlow warnings are by default suppressed by zfit. In order to show them, set the environment variable ZFIT_DISABLE_TF_WARNINGS=0. In order to suppress the TensorFlow warnings AND this warning, set ZFIT_DISABLE_TF_WARNINGS=1.\n",
      "  warnings.warn(\n"
     ]
    }
   ],
   "source": [
    "import matplotlib.pyplot as plt\n",
    "%matplotlib inline\n",
    "\n",
    "import math\n",
    "import uproot\n",
    "import pandas\n",
    "import numpy as np\n",
    "import scipy as sp\n",
    "import numpy.polynomial.chebyshev as cheb\n",
    "from scipy.optimize import curve_fit\n",
    "from scipy import stats\n",
    "\n",
    "import ROOT as r\n",
    "\n",
    "import zfit\n",
    "from zfit import z\n",
    "import tensorflow as tf"
   ]
  },
  {
   "cell_type": "code",
   "execution_count": 2,
   "id": "0089c86f",
   "metadata": {},
   "outputs": [],
   "source": [
    "import ROOT as r\n",
    "\n",
    "# Make nice looking plots\n",
    "plt.rcParams.update({\n",
    "          'font.size': 20,\n",
    "          'figure.figsize': (12, 8),\n",
    "})"
   ]
  },
  {
   "cell_type": "code",
   "execution_count": 3,
   "id": "be92a8fc",
   "metadata": {},
   "outputs": [],
   "source": [
    "# define columns to import\n",
    "c_1 = ['M','E','dr','dz','theta','isSignal','Mbc','missingMass2OfEvent','recMissM2']"
   ]
  },
  {
   "cell_type": "code",
   "execution_count": 4,
   "id": "0fa63bbd",
   "metadata": {},
   "outputs": [],
   "source": [
    "generic_events = uproot.open(\"b2dsenu_MC_skim.root:antiB0\")"
   ]
  },
  {
   "cell_type": "code",
   "execution_count": 5,
   "id": "d38165f0",
   "metadata": {},
   "outputs": [],
   "source": [
    "df = generic_events.arrays(cut=f'M==M', filter_name=c_1, library='pd')"
   ]
  },
  {
   "cell_type": "code",
   "execution_count": 6,
   "id": "1ff5f8d2",
   "metadata": {},
   "outputs": [
    {
     "data": {
      "text/html": [
       "<div>\n",
       "<style scoped>\n",
       "    .dataframe tbody tr th:only-of-type {\n",
       "        vertical-align: middle;\n",
       "    }\n",
       "\n",
       "    .dataframe tbody tr th {\n",
       "        vertical-align: top;\n",
       "    }\n",
       "\n",
       "    .dataframe thead th {\n",
       "        text-align: right;\n",
       "    }\n",
       "</style>\n",
       "<table border=\"1\" class=\"dataframe\">\n",
       "  <thead>\n",
       "    <tr style=\"text-align: right;\">\n",
       "      <th></th>\n",
       "      <th>M</th>\n",
       "      <th>dr</th>\n",
       "      <th>dz</th>\n",
       "      <th>E</th>\n",
       "      <th>theta</th>\n",
       "      <th>isSignal</th>\n",
       "      <th>Mbc</th>\n",
       "      <th>missingMass2OfEvent</th>\n",
       "      <th>recMissM2</th>\n",
       "    </tr>\n",
       "  </thead>\n",
       "  <tbody>\n",
       "    <tr>\n",
       "      <th>count</th>\n",
       "      <td>2537.000000</td>\n",
       "      <td>2537.000000</td>\n",
       "      <td>2537.000000</td>\n",
       "      <td>2537.000000</td>\n",
       "      <td>2537.000000</td>\n",
       "      <td>2471.000000</td>\n",
       "      <td>2537.000000</td>\n",
       "      <td>2537.000000</td>\n",
       "      <td>2537.000000</td>\n",
       "    </tr>\n",
       "    <tr>\n",
       "      <th>mean</th>\n",
       "      <td>3.484741</td>\n",
       "      <td>0.006635</td>\n",
       "      <td>0.006836</td>\n",
       "      <td>4.019447</td>\n",
       "      <td>0.849944</td>\n",
       "      <td>0.320518</td>\n",
       "      <td>5.066255</td>\n",
       "      <td>2.879047</td>\n",
       "      <td>0.104293</td>\n",
       "    </tr>\n",
       "    <tr>\n",
       "      <th>std</th>\n",
       "      <td>0.808564</td>\n",
       "      <td>0.010760</td>\n",
       "      <td>0.019472</td>\n",
       "      <td>0.601029</td>\n",
       "      <td>0.477170</td>\n",
       "      <td>0.466770</td>\n",
       "      <td>0.150219</td>\n",
       "      <td>4.466435</td>\n",
       "      <td>0.719995</td>\n",
       "    </tr>\n",
       "    <tr>\n",
       "      <th>min</th>\n",
       "      <td>2.100762</td>\n",
       "      <td>0.000022</td>\n",
       "      <td>-0.284194</td>\n",
       "      <td>2.685314</td>\n",
       "      <td>0.012198</td>\n",
       "      <td>0.000000</td>\n",
       "      <td>4.715633</td>\n",
       "      <td>-7.138709</td>\n",
       "      <td>-1.499507</td>\n",
       "    </tr>\n",
       "    <tr>\n",
       "      <th>25%</th>\n",
       "      <td>2.736272</td>\n",
       "      <td>0.001905</td>\n",
       "      <td>-0.004707</td>\n",
       "      <td>3.575123</td>\n",
       "      <td>0.490717</td>\n",
       "      <td>0.000000</td>\n",
       "      <td>4.936474</td>\n",
       "      <td>0.039376</td>\n",
       "      <td>-0.378527</td>\n",
       "    </tr>\n",
       "    <tr>\n",
       "      <th>50%</th>\n",
       "      <td>3.512623</td>\n",
       "      <td>0.003694</td>\n",
       "      <td>0.006563</td>\n",
       "      <td>3.967167</td>\n",
       "      <td>0.771115</td>\n",
       "      <td>0.000000</td>\n",
       "      <td>5.082570</td>\n",
       "      <td>1.423290</td>\n",
       "      <td>0.100466</td>\n",
       "    </tr>\n",
       "    <tr>\n",
       "      <th>75%</th>\n",
       "      <td>4.124883</td>\n",
       "      <td>0.007372</td>\n",
       "      <td>0.017941</td>\n",
       "      <td>4.456379</td>\n",
       "      <td>1.124338</td>\n",
       "      <td>1.000000</td>\n",
       "      <td>5.205185</td>\n",
       "      <td>4.339121</td>\n",
       "      <td>0.624031</td>\n",
       "    </tr>\n",
       "    <tr>\n",
       "      <th>max</th>\n",
       "      <td>6.041744</td>\n",
       "      <td>0.247058</td>\n",
       "      <td>0.112193</td>\n",
       "      <td>6.618478</td>\n",
       "      <td>2.763766</td>\n",
       "      <td>1.000000</td>\n",
       "      <td>5.289246</td>\n",
       "      <td>37.293339</td>\n",
       "      <td>1.496928</td>\n",
       "    </tr>\n",
       "  </tbody>\n",
       "</table>\n",
       "</div>"
      ],
      "text/plain": [
       "                 M           dr           dz            E        theta  \\\n",
       "count  2537.000000  2537.000000  2537.000000  2537.000000  2537.000000   \n",
       "mean      3.484741     0.006635     0.006836     4.019447     0.849944   \n",
       "std       0.808564     0.010760     0.019472     0.601029     0.477170   \n",
       "min       2.100762     0.000022    -0.284194     2.685314     0.012198   \n",
       "25%       2.736272     0.001905    -0.004707     3.575123     0.490717   \n",
       "50%       3.512623     0.003694     0.006563     3.967167     0.771115   \n",
       "75%       4.124883     0.007372     0.017941     4.456379     1.124338   \n",
       "max       6.041744     0.247058     0.112193     6.618478     2.763766   \n",
       "\n",
       "          isSignal          Mbc  missingMass2OfEvent    recMissM2  \n",
       "count  2471.000000  2537.000000          2537.000000  2537.000000  \n",
       "mean      0.320518     5.066255             2.879047     0.104293  \n",
       "std       0.466770     0.150219             4.466435     0.719995  \n",
       "min       0.000000     4.715633            -7.138709    -1.499507  \n",
       "25%       0.000000     4.936474             0.039376    -0.378527  \n",
       "50%       0.000000     5.082570             1.423290     0.100466  \n",
       "75%       1.000000     5.205185             4.339121     0.624031  \n",
       "max       1.000000     5.289246            37.293339     1.496928  "
      ]
     },
     "execution_count": 6,
     "metadata": {},
     "output_type": "execute_result"
    }
   ],
   "source": [
    "df.describe()"
   ]
  },
  {
   "cell_type": "code",
   "execution_count": 7,
   "id": "7ae9884f",
   "metadata": {},
   "outputs": [],
   "source": [
    "signal_events = uproot.open(\"b2dsenu_SM_100k.root:antiB0\")"
   ]
  },
  {
   "cell_type": "code",
   "execution_count": 8,
   "id": "da2d3660",
   "metadata": {},
   "outputs": [],
   "source": [
    "df_sigMC = signal_events.arrays(cut=f'M==M', filter_name=c_1, library='pd')"
   ]
  },
  {
   "cell_type": "code",
   "execution_count": 9,
   "id": "b5f095dd",
   "metadata": {},
   "outputs": [
    {
     "data": {
      "text/html": [
       "<div>\n",
       "<style scoped>\n",
       "    .dataframe tbody tr th:only-of-type {\n",
       "        vertical-align: middle;\n",
       "    }\n",
       "\n",
       "    .dataframe tbody tr th {\n",
       "        vertical-align: top;\n",
       "    }\n",
       "\n",
       "    .dataframe thead th {\n",
       "        text-align: right;\n",
       "    }\n",
       "</style>\n",
       "<table border=\"1\" class=\"dataframe\">\n",
       "  <thead>\n",
       "    <tr style=\"text-align: right;\">\n",
       "      <th></th>\n",
       "      <th>M</th>\n",
       "      <th>dr</th>\n",
       "      <th>dz</th>\n",
       "      <th>E</th>\n",
       "      <th>theta</th>\n",
       "      <th>isSignal</th>\n",
       "      <th>Mbc</th>\n",
       "      <th>missingMass2OfEvent</th>\n",
       "      <th>recMissM2</th>\n",
       "    </tr>\n",
       "  </thead>\n",
       "  <tbody>\n",
       "    <tr>\n",
       "      <th>count</th>\n",
       "      <td>15909.000000</td>\n",
       "      <td>15909.000000</td>\n",
       "      <td>15909.000000</td>\n",
       "      <td>15909.000000</td>\n",
       "      <td>15909.000000</td>\n",
       "      <td>15657.000000</td>\n",
       "      <td>15909.000000</td>\n",
       "      <td>15909.000000</td>\n",
       "      <td>15909.000000</td>\n",
       "    </tr>\n",
       "    <tr>\n",
       "      <th>mean</th>\n",
       "      <td>3.840566</td>\n",
       "      <td>0.003500</td>\n",
       "      <td>0.009213</td>\n",
       "      <td>4.252536</td>\n",
       "      <td>0.779313</td>\n",
       "      <td>0.862234</td>\n",
       "      <td>5.125135</td>\n",
       "      <td>7.230290</td>\n",
       "      <td>-0.040653</td>\n",
       "    </tr>\n",
       "    <tr>\n",
       "      <th>std</th>\n",
       "      <td>0.611937</td>\n",
       "      <td>0.004690</td>\n",
       "      <td>0.031950</td>\n",
       "      <td>0.489198</td>\n",
       "      <td>0.467162</td>\n",
       "      <td>0.344665</td>\n",
       "      <td>0.110076</td>\n",
       "      <td>7.517869</td>\n",
       "      <td>0.510314</td>\n",
       "    </tr>\n",
       "    <tr>\n",
       "      <th>min</th>\n",
       "      <td>2.106604</td>\n",
       "      <td>0.000005</td>\n",
       "      <td>-0.256062</td>\n",
       "      <td>2.706523</td>\n",
       "      <td>0.001890</td>\n",
       "      <td>0.000000</td>\n",
       "      <td>4.743952</td>\n",
       "      <td>-10.350799</td>\n",
       "      <td>-1.498642</td>\n",
       "    </tr>\n",
       "    <tr>\n",
       "      <th>25%</th>\n",
       "      <td>3.416009</td>\n",
       "      <td>0.001172</td>\n",
       "      <td>-0.012720</td>\n",
       "      <td>3.903989</td>\n",
       "      <td>0.436887</td>\n",
       "      <td>1.000000</td>\n",
       "      <td>5.056415</td>\n",
       "      <td>1.872124</td>\n",
       "      <td>-0.393670</td>\n",
       "    </tr>\n",
       "    <tr>\n",
       "      <th>50%</th>\n",
       "      <td>3.886040</td>\n",
       "      <td>0.002356</td>\n",
       "      <td>0.009210</td>\n",
       "      <td>4.269557</td>\n",
       "      <td>0.699241</td>\n",
       "      <td>1.000000</td>\n",
       "      <td>5.146096</td>\n",
       "      <td>5.292577</td>\n",
       "      <td>-0.057978</td>\n",
       "    </tr>\n",
       "    <tr>\n",
       "      <th>75%</th>\n",
       "      <td>4.304271</td>\n",
       "      <td>0.004395</td>\n",
       "      <td>0.031135</td>\n",
       "      <td>4.613673</td>\n",
       "      <td>1.030323</td>\n",
       "      <td>1.000000</td>\n",
       "      <td>5.213795</td>\n",
       "      <td>10.667090</td>\n",
       "      <td>0.305456</td>\n",
       "    </tr>\n",
       "    <tr>\n",
       "      <th>max</th>\n",
       "      <td>5.766494</td>\n",
       "      <td>0.288161</td>\n",
       "      <td>0.167637</td>\n",
       "      <td>6.425998</td>\n",
       "      <td>3.043980</td>\n",
       "      <td>1.000000</td>\n",
       "      <td>5.289242</td>\n",
       "      <td>61.176804</td>\n",
       "      <td>1.496331</td>\n",
       "    </tr>\n",
       "  </tbody>\n",
       "</table>\n",
       "</div>"
      ],
      "text/plain": [
       "                  M            dr            dz             E         theta  \\\n",
       "count  15909.000000  15909.000000  15909.000000  15909.000000  15909.000000   \n",
       "mean       3.840566      0.003500      0.009213      4.252536      0.779313   \n",
       "std        0.611937      0.004690      0.031950      0.489198      0.467162   \n",
       "min        2.106604      0.000005     -0.256062      2.706523      0.001890   \n",
       "25%        3.416009      0.001172     -0.012720      3.903989      0.436887   \n",
       "50%        3.886040      0.002356      0.009210      4.269557      0.699241   \n",
       "75%        4.304271      0.004395      0.031135      4.613673      1.030323   \n",
       "max        5.766494      0.288161      0.167637      6.425998      3.043980   \n",
       "\n",
       "           isSignal           Mbc  missingMass2OfEvent     recMissM2  \n",
       "count  15657.000000  15909.000000         15909.000000  15909.000000  \n",
       "mean       0.862234      5.125135             7.230290     -0.040653  \n",
       "std        0.344665      0.110076             7.517869      0.510314  \n",
       "min        0.000000      4.743952           -10.350799     -1.498642  \n",
       "25%        1.000000      5.056415             1.872124     -0.393670  \n",
       "50%        1.000000      5.146096             5.292577     -0.057978  \n",
       "75%        1.000000      5.213795            10.667090      0.305456  \n",
       "max        1.000000      5.289242            61.176804      1.496331  "
      ]
     },
     "execution_count": 9,
     "metadata": {},
     "output_type": "execute_result"
    }
   ],
   "source": [
    "df_sigMC.describe()"
   ]
  },
  {
   "cell_type": "code",
   "execution_count": 10,
   "id": "49f0cdee",
   "metadata": {},
   "outputs": [],
   "source": [
    "def plotVarSimple(var,cuts,nbins,myrange,data,position=0,mylabel=\"\",mytitle = \"\",log=False):\n",
    "    \n",
    "    if mylabel==\"\":\n",
    "        mylabel=var\n",
    "\n",
    "    ax = plt.subplot()\n",
    "\n",
    "    # define a numpy array from the given column in the dataframe\n",
    "    npbkg = data.query(cuts+' and isSignal!=1')[var].to_numpy()\n",
    "    npsig = data.query(cuts+' and isSignal==1')[var].to_numpy()\n",
    "    \n",
    "    # create histograms\n",
    "    ysig, bin_edges = np.histogram(npsig, bins=nbins, range=myrange)\n",
    "    ax.hist([npbkg,npsig], bins=nbins, range=myrange,\n",
    "            label=[\"Background\",\"Signal\"], \n",
    "            stacked=True)\n",
    "    bin_centers = 0.5*(bin_edges[1:] + bin_edges[:-1])\n",
    "\n",
    "    #nsig = df_mc.query(lcmassrangetight+\" and \"+cuts+' and Lambdac_isSignal==1')[var].to_numpy().size\n",
    "    #nbkg = df_mc.query(lcmassrangetight+\" and \"+cuts+' and not Lambdac_isSignal==1')[var].to_numpy().size\n",
    "    #print(str(nsig)+\" signal and \"+str(nbkg)+\" background -> \",nsig/(nsig+nbkg))\n",
    "    \n",
    "    # set plot features\n",
    "    #plt.ylim(0.1,23000)\n",
    "    plt.ylim(0.1,None)\n",
    "    if log==True:\n",
    "        plt.yscale(\"log\")\n",
    "    plt.xlim(myrange)\n",
    "    plt.xlabel(mylabel)\n",
    "    plt.legend(loc=position)\n",
    "    ax.set_title(mytitle)\n",
    "    plt.show()"
   ]
  },
  {
   "cell_type": "code",
   "execution_count": 11,
   "id": "930a9ade",
   "metadata": {},
   "outputs": [],
   "source": [
    "# Method to overlay fitted pdfs and data sample\n",
    "def plot_model(model, mydata, nevents, nbins=100, myrange=(-1.5,1.5), mylabel=\"\", mytitle = \"\", plot_data=True):\n",
    "\n",
    "    fig = plt.figure()\n",
    "    fig.subplots_adjust(hspace=0.4)\n",
    "    fig.suptitle(mytitle)\n",
    "\n",
    "    from matplotlib import gridspec\n",
    "    gs = gridspec.GridSpec(2, 1, height_ratios=[5, 1]) \n",
    "    ax0 = plt.subplot(gs[0])\n",
    "    ax1 = plt.subplot(gs[1])\n",
    "    lower, upper = mydata.data_range.limit1d\n",
    "\n",
    "    x = tf.linspace(lower, upper, num=nbins)  # np.linspace also works\n",
    "    for mod, frac in zip(model.pdfs, model.params.values()):\n",
    "        y = mod.pdf(x) * nevents / nbins * mydata.data_range.area()\n",
    "        y *= frac\n",
    "        ax0.plot(x, y)\n",
    "    data_plot = zfit.run(z.unstack_x(mydata))  # we could also use the `to_pandas` method\n",
    "    y = model.pdf(x) * nevents / nbins * mydata.data_range.area()\n",
    "    ax0.plot(x, y)\n",
    "\n",
    "    counts, bin_edges = np.histogram(data_plot, bins=nbins, range=myrange)\n",
    "    bin_centers = (bin_edges[:-1] + bin_edges[1:])/2.\n",
    "    yerrs = counts**0.5\n",
    "    ax0.errorbar(bin_centers, counts, yerr=yerrs, fmt='k.', linestyle='')\n",
    "    ax0.set_xlabel(mylabel)\n",
    "    ax0.set_xlim(myrange)\n",
    "    ax0.set_ylim(0,None)\n",
    "\n",
    "    X = np.ma.masked_equal(yerrs,0)\n",
    "    ypull = (y-counts)/X\n",
    "    ax1.errorbar(bin_centers, ypull, yerr=ypull*[0], fmt='k.', linestyle='')\n",
    "    ax1.set_xlim(myrange)\n",
    "    ax1.set_ylim(-5,5)"
   ]
  },
  {
   "cell_type": "code",
   "execution_count": 12,
   "id": "ff120a2a",
   "metadata": {},
   "outputs": [
    {
     "data": {
      "image/png": "[encoded data removed]",
      "text/plain": [
       "<Figure size 864x576 with 1 Axes>"
      ]
     },
     "metadata": {
      "needs_background": "light"
     },
     "output_type": "display_data"
    }
   ],
   "source": [
    "plotVarSimple(\"recMissM2\",\"Mbc>0\",100,(-1.5,1.5),df,mytitle=\"generic MC\")"
   ]
  },
  {
   "cell_type": "code",
   "execution_count": 13,
   "id": "7354ebb6",
   "metadata": {},
   "outputs": [
    {
     "data": {
      "image/png": "[encoded data removed]",
      "text/plain": [
       "<Figure size 864x576 with 1 Axes>"
      ]
     },
     "metadata": {
      "needs_background": "light"
     },
     "output_type": "display_data"
    }
   ],
   "source": [
    "plotVarSimple(\"recMissM2\",\"Mbc>0\",100,(-1.5,1.5),df_sigMC,mytitle=\"signal MC\")"
   ]
  },
  {
   "cell_type": "code",
   "execution_count": 14,
   "id": "c721eaa4",
   "metadata": {},
   "outputs": [
    {
     "name": "stdout",
     "output_type": "stream",
     "text": [
      "signal: 792\n",
      "bkg: 1745\n"
     ]
    }
   ],
   "source": [
    "# Define default parameters for zfit\n",
    "MissM2range = (-1.5,1.5)\n",
    "MissM2obs = zfit.Space('recMissM2', MissM2range)\n",
    "issignal = 'isSignal==1'\n",
    "\n",
    "# Get the signal and background for reference\n",
    "signal = df.query('Mbc>0 and ' + issignal).recMissM2.to_numpy()\n",
    "bkg = df.query('Mbc>0 and isSignal!=1').recMissM2.to_numpy()\n",
    "print('signal: ' + str(len(signal)))\n",
    "print('bkg: ' + str(len(bkg)))"
   ]
  },
  {
   "cell_type": "code",
   "execution_count": 15,
   "id": "bffb05b8",
   "metadata": {},
   "outputs": [],
   "source": [
    "# Signal fit parameters\n",
    "mu = zfit.Parameter(\"mu\", 0, -1.5, 1.5)\n",
    "s1 = zfit.param.Parameter(\"s1\", 0.020, 0.0001, 1)"
   ]
  },
  {
   "cell_type": "code",
   "execution_count": 16,
   "id": "92891be0",
   "metadata": {},
   "outputs": [],
   "source": [
    "# Build pdf for true signal MC\n",
    "gaus1 = zfit.pdf.Gauss(obs=MissM2obs, mu=mu, sigma=s1)\n",
    "\n",
    "sig_sig_yield = zfit.Parameter('sig_sig_yield', 50000, 0, 1e9, step_size=1)\n",
    "\n",
    "sig_ext = gaus1.create_extended(sig_sig_yield)"
   ]
  },
  {
   "cell_type": "code",
   "execution_count": 17,
   "id": "a322f4dc",
   "metadata": {},
   "outputs": [],
   "source": [
    "# Fill an array with the true signal MC data to be fit\n",
    "sig_data_np = df_sigMC.query('Mbc>0 and '+issignal).recMissM2.to_numpy()\n",
    "sig_data = zfit.data.Data.from_numpy(obs=MissM2obs, array=sig_data_np)\n",
    "sig_data.set_data_range(MissM2range) \n",
    "sig_data_size = sig_data.n_events"
   ]
  },
  {
   "cell_type": "code",
   "execution_count": 18,
   "id": "5efd1c24",
   "metadata": {},
   "outputs": [
    {
     "name": "stdout",
     "output_type": "stream",
     "text": [
      "FitResult of\n",
      "<ExtendedUnbinnedNLL model=[<zfit.<class 'zfit.models.dist_tfp.Gauss'>  params=[mu, s1]] data=[<zfit.core.data.Data object at 0x7f20e96ec6d0>] constraints=[]> \n",
      "with\n",
      "<Minuit Minuit tol=0.001>\n",
      "\n",
      "╒═════════╤═════════════╤══════════════════╤═════════╤══════════════════════════════════╕\n",
      "│  valid  │  converged  │  param at limit  │   edm   │   approx. fmin (full | internal) │\n",
      "╞═════════╪═════════════╪══════════════════╪═════════╪══════════════════════════════════╡\n",
      "│  True   │    True     │      False       │ 4.2e-05 │               9958.12 | -3402931 │\n",
      "╘═════════╧═════════════╧══════════════════╧═════════╧══════════════════════════════════╛\n",
      "\n",
      "Parameters\n",
      "name             value  (rounded)    at limit\n",
      "-------------  ------------------  ----------\n",
      "sig_sig_yield             13500.7       False\n",
      "mu                     -0.0413584       False\n",
      "s1                       0.516649       False\n"
     ]
    }
   ],
   "source": [
    "# Define loss function\n",
    "nll_simultaneous = zfit.loss.ExtendedUnbinnedNLL(model=sig_ext,data=sig_data)\n",
    "minimizer = zfit.minimize.Minuit()\n",
    "result = minimizer.minimize(nll_simultaneous)  \n",
    "print(result)"
   ]
  },
  {
   "cell_type": "code",
   "execution_count": 19,
   "id": "9ba640d4",
   "metadata": {},
   "outputs": [],
   "source": [
    "sigmean=result.params[mu].get('value')\n",
    "sigsigma1=result.params[s1].get('value')"
   ]
  },
  {
   "cell_type": "code",
   "execution_count": 20,
   "id": "808e4b03",
   "metadata": {},
   "outputs": [],
   "source": [
    "# Parameters for misreconstructed signal\n",
    "sig_mean = zfit.Parameter(\"sig_mean\", sigmean)\n",
    "sig_mean.floating = False\n",
    "s2 = zfit.param.Parameter(\"s2\", 0.001, 0.0001, 1)"
   ]
  },
  {
   "cell_type": "code",
   "execution_count": 21,
   "id": "4dce432b",
   "metadata": {},
   "outputs": [],
   "source": [
    "# Build pdf for misreconstructed signal\n",
    "gaus2 = zfit.pdf.Gauss(obs=MissM2obs, mu=sig_mean, sigma=s2)\n",
    "\n",
    "mis_sig_yield = zfit.Parameter('mis_sig_yield', 50000, 0, 1e9, step_size=1)\n",
    "\n",
    "mis_sig_ext = gaus2.create_extended(mis_sig_yield)"
   ]
  },
  {
   "cell_type": "code",
   "execution_count": 22,
   "id": "e135bd25",
   "metadata": {},
   "outputs": [],
   "source": [
    "# Fill an array with the misreconstructed signal MC data to be fit\n",
    "mis_sig_data_np = df_sigMC.query('Mbc>0 and isSignal != 1').recMissM2.to_numpy()\n",
    "mis_sig_data = zfit.data.Data.from_numpy(obs=MissM2obs, array=mis_sig_data_np)\n",
    "mis_sig_data.set_data_range(MissM2range) \n",
    "mis_sig_data_size = mis_sig_data.n_events"
   ]
  },
  {
   "cell_type": "code",
   "execution_count": 23,
   "id": "d5bd1dca",
   "metadata": {},
   "outputs": [
    {
     "name": "stdout",
     "output_type": "stream",
     "text": [
      "FitResult of\n",
      "<ExtendedUnbinnedNLL model=[<zfit.<class 'zfit.models.dist_tfp.Gauss'>  params=[s2, sig_mean]] data=[<zfit.core.data.Data object at 0x7f20fd120880>] constraints=[]> \n",
      "with\n",
      "<Minuit Minuit tol=0.001>\n",
      "\n",
      "╒═════════╤═════════════╤══════════════════╤═════════╤══════════════════════════════════╕\n",
      "│  valid  │  converged  │  param at limit  │   edm   │   approx. fmin (full | internal) │\n",
      "╞═════════╪═════════════╪══════════════════╪═════════╪══════════════════════════════════╡\n",
      "│  True   │    True     │      False       │ 0.00018 │               1861.75 | -1664805 │\n",
      "╘═════════╧═════════════╧══════════════════╧═════════╧══════════════════════════════════╛\n",
      "\n",
      "Parameters\n",
      "name             value  (rounded)    at limit\n",
      "-------------  ------------------  ----------\n",
      "mis_sig_yield             2409.19       False\n",
      "s2                       0.538183       False\n"
     ]
    }
   ],
   "source": [
    "# Define loss function\n",
    "nll_simultaneous = zfit.loss.ExtendedUnbinnedNLL(model=mis_sig_ext,data=mis_sig_data)\n",
    "minimizer = zfit.minimize.Minuit()\n",
    "result = minimizer.minimize(nll_simultaneous)  \n",
    "print(result)"
   ]
  },
  {
   "cell_type": "code",
   "execution_count": 24,
   "id": "4a2bbbc4",
   "metadata": {},
   "outputs": [],
   "source": [
    "sigsigma2=result.params[s2].get('value')"
   ]
  },
  {
   "cell_type": "code",
   "execution_count": 25,
   "id": "6b8b4166",
   "metadata": {},
   "outputs": [],
   "source": [
    "# Now we define parameters for fitting the generic MC\n",
    "sig_s1 = zfit.Parameter(\"sig_s1\", sigsigma1)\n",
    "sig_s1.floating = False\n",
    "sig_s2 = zfit.Parameter(\"sig_s2\", sigsigma2)\n",
    "sig_s2.floating = False\n",
    "\n",
    "fg1 = zfit.param.Parameter(\"fg1\", 0.20, 0., 1.)\n",
    "a1 = zfit.Parameter(\"a1\", 0.01, -1e6, 1e6)\n",
    "\n",
    "sig_yield = zfit.Parameter('sig_yield', 5000, 0, 1e8, step_size=1)\n",
    "bkg_yield = zfit.Parameter('bkg_yield', 50000, 0, 1e9, step_size=1)"
   ]
  },
  {
   "cell_type": "code",
   "execution_count": 34,
   "id": "b8deb7f9",
   "metadata": {},
   "outputs": [],
   "source": [
    "# Build pdf for generic MC\n",
    "sig_gaus = zfit.pdf.Gauss(obs=MissM2obs, mu=sig_mean, sigma=sig_s1)\n",
    "bkg_gaus = zfit.pdf.Gauss(obs=MissM2obs, mu=sig_mean, sigma=sig_s2)\n",
    "\n",
    "#sig_gaus = zfit.pdf.SumPDF(pdfs=[sig_gaus1,sig_gaus2], fracs=[fg1])\n",
    "\n",
    "bkg_poly = zfit.pdf.Chebyshev(obs=MissM2obs, coeffs=[a1])\n",
    "\n",
    "bkg_pdf = zfit.pdf.SumPDF(pdfs=[bkg_gaus,bkg_poly], fracs=[fg1])\n",
    "\n",
    "gen_sig_ext = sig_gaus.create_extended(sig_yield)\n",
    "gen_bkg_ext = bkg_pdf.create_extended(bkg_yield)\n",
    "\n",
    "gen_pdf_ext = zfit.pdf.SumPDF(pdfs=[gen_sig_ext,gen_bkg_ext])"
   ]
  },
  {
   "cell_type": "code",
   "execution_count": 35,
   "id": "15a8eeb9",
   "metadata": {},
   "outputs": [],
   "source": [
    "# Fill an array with the generic MC data to be fit\n",
    "gen_data_np = df.query('Mbc>0').recMissM2.to_numpy()\n",
    "gen_data = zfit.data.Data.from_numpy(obs=MissM2obs, array=gen_data_np)\n",
    "gen_data.set_data_range(MissM2range)\n",
    "gen_data_size = gen_data.n_events"
   ]
  },
  {
   "cell_type": "code",
   "execution_count": 36,
   "id": "1c316a04",
   "metadata": {},
   "outputs": [],
   "source": [
    "# Simultaenous loss\n",
    "nll_simultaneous = zfit.loss.ExtendedUnbinnedNLL(model=[gen_pdf_ext], data=[gen_data])\n",
    "minimizer = zfit.minimize.Minuit()\n",
    "result = minimizer.minimize(nll_simultaneous)"
   ]
  },
  {
   "cell_type": "code",
   "execution_count": 37,
   "id": "9eb9263f",
   "metadata": {},
   "outputs": [
    {
     "name": "stderr",
     "output_type": "stream",
     "text": [
      "/home/belle2/qcampagn/.local/lib/python3.8/site-packages/zfit/minimizers/fitresult.py:1340: FutureWarning: 'minuit_minos' will be changed as the default errors method to a custom implementationwith the same functionality. If you want to make sure that 'minuit_minos' will be used in the future, add it explicitly as in `errors(method='minuit_minos')`\n",
      "  warnings.warn(\n"
     ]
    },
    {
     "name": "stdout",
     "output_type": "stream",
     "text": [
      "FitResult of\n",
      "<ExtendedUnbinnedNLL model=[<zfit.<class 'zfit.models.functor.SumPDF'>  params=[Composed_autoparam_13, Composed_autoparam_14]] data=[<zfit.core.data.Data object at 0x7f20f0ed7340>] constraints=[]> \n",
      "with\n",
      "<Minuit Minuit tol=0.001>\n",
      "\n",
      "╒═════════╤═════════════╤══════════════════╤═════════╤══════════════════════════════════╕\n",
      "│  valid  │  converged  │  param at limit  │   edm   │   approx. fmin (full | internal) │\n",
      "╞═════════╪═════════════╪══════════════════╪═════════╪══════════════════════════════════╡\n",
      "│  True   │    True     │      False       │ 0.00038 │              2596.57 |  9444.395 │\n",
      "╘═════════╧═════════════╧══════════════════╧═════════╧══════════════════════════════════╛\n",
      "\n",
      "Parameters\n",
      "name         value  (rounded)        hesse               errors         minuit_minos    at limit\n",
      "---------  ------------------  -----------  -------------------  -------------------  ----------\n",
      "sig_yield             1127.01  +/-      70  -4.8e+02   +     62  -4.8e+02   +     62       False\n",
      "bkg_yield             1409.89  +/-      72  -     64   +4.8e+02  -     64   +4.8e+02       False\n",
      "fg1               0.000250062  +/-   0.017  -0.00025   +   0.26  -0.00025   +   0.26       False\n",
      "a1                    0.40015  +/-   0.048  -  0.049   +  0.048  -  0.049   +  0.048       False\n"
     ]
    }
   ],
   "source": [
    "result.hesse()\n",
    "errors, new_result = result.errors()\n",
    "print(result)"
   ]
  },
  {
   "cell_type": "code",
   "execution_count": 38,
   "id": "c89cec32",
   "metadata": {},
   "outputs": [
    {
     "data": {
      "image/png": "[encoded data removed]",
      "text/plain": [
       "<Figure size 864x576 with 2 Axes>"
      ]
     },
     "metadata": {
      "needs_background": "light"
     },
     "output_type": "display_data"
    }
   ],
   "source": [
    "plot_model(model=gen_pdf_ext, mydata=gen_data, nevents=int(gen_data_size), nbins=100)"
   ]
  },
  {
   "cell_type": "code",
   "execution_count": null,
   "id": "322ee066",
   "metadata": {},
   "outputs": [],
   "source": []
  }
 ],
 "metadata": {
  "kernelspec": {
   "display_name": "Python 3 (Belle2)",
   "language": "python",
   "name": "python3"
  },
  "language_info": {
   "codemirror_mode": {
    "name": "ipython",
    "version": 3
   },
   "file_extension": ".py",
   "mimetype": "text/x-python",
   "name": "python",
   "nbconvert_exporter": "python",
   "pygments_lexer": "ipython3",
   "version": "3.8.8"
  }
 },
 "nbformat": 4,
 "nbformat_minor": 5
}
